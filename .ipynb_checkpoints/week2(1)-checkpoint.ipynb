{
 "cells": [
  {
   "cell_type": "markdown",
   "metadata": {},
   "source": [
    "# MA934  Numerical Methods - Workbook 2"
   ]
  },
  {
   "cell_type": "code",
   "execution_count": 1,
   "metadata": {
    "collapsed": false
   },
   "outputs": [
    {
     "data": {
      "text/plain": [
       "buildFTree (generic function with 1 method)"
      ]
     },
     "execution_count": 1,
     "metadata": {},
     "output_type": "execute_result"
    }
   ],
   "source": [
    "using PyPlot\n",
    "include(\"KVPair.jl\")\n",
    "include(\"LList.jl\")\n",
    "include(\"FTree.jl\")"
   ]
  },
  {
   "cell_type": "code",
   "execution_count": 2,
   "metadata": {
    "collapsed": true
   },
   "outputs": [],
   "source": [
    "# Seed for random number generator. \n",
    "seed = 5761;\n",
    "# Initialise the random number generator\n",
    "rng = MersenneTwister(seed);"
   ]
  },
  {
   "cell_type": "markdown",
   "metadata": {},
   "source": [
    "## Question 1: Linear search using a linked list\n",
    "\n",
    "The file KVPair.jl defines a simple data structure to represent an (Int64, Float64) key-value pair. \n",
    "\n",
    "The file LList.jl defines a linked list that stores a KVPair at each node. Many languages have a keyword NULL. A pointer to any object can take the value NULL to indicate that it doesn't point to anything. NULL is often used to denote the end of a list, the leaves of a tree etc. Julia does not support NULL pointers. This causes a difficulty in implementing recursive data structures. Instead Julia provides a parametric data type Nullable{T} to represent missing values. It is possible to use Nullable types to define recursive data structures although some of the resulting definitions are a bit clumsy. I'm not sure that this is the canonical way to implement structural recursion in Julia. \n",
    "\n",
    "The following points are important:\n",
    "\n",
    "* if a variable has type Nullable{T} then it can either contain a value of type T or nothing (ie a missing value). \n",
    "* the function isnull(x) checks whether a nullable type x has a value or not. \n",
    "* the function get(x) returns the actual value (of type T) contained in a nullable type x.\n",
    "\n",
    "Much more information can be found at https://docs.julialang.org/en/stable/manual/types/\n",
    "\n",
    "The function \n",
    "\n",
    "> buildLList(dataArray::Array{KVPair, 1})\n",
    "\n",
    "takes an array of KVPair objects as input and returns an LList containing these KVPairs. This is illustrated in the code below.\n",
    "\n",
    "2. Write a function search(list::Nullable{LList}, k::Int64) that searches an LList for the key k and returns the corresponding KVPair if it is present and a Nullable{KVPair} otherwise. Verify that your function works.\n",
    "3. Use Julia's @timed macro to measure how the typical computational cost of your search() function grows with the length of the list. "
   ]
  },
  {
   "cell_type": "markdown",
   "metadata": {},
   "source": [
    "** (1) ** Write a recursive function that traverses the list and prints out the key-value pairs stored in it. Check that your function works."
   ]
  },
  {
   "cell_type": "code",
   "execution_count": 3,
   "metadata": {
    "collapsed": false
   },
   "outputs": [
    {
     "data": {
      "text/plain": [
       "search (generic function with 1 method)"
      ]
     },
     "execution_count": 3,
     "metadata": {},
     "output_type": "execute_result"
    }
   ],
   "source": [
    "include(\"workbook2_search.jl\")"
   ]
  },
  {
   "cell_type": "markdown",
   "metadata": {},
   "source": [
    "The above file contains **two** functions: \n",
    "1. printKVPair(list) takes a LList, and print out the key-value pairs stored in it. \n",
    "2. search(list, k) takes a LList and the integer k, returns the corresponding KVPair if it is present and a Nullable{KVPair} otherwise. "
   ]
  },
  {
   "cell_type": "markdown",
   "metadata": {},
   "source": [
    "Regarding function, refer to printKVPair function in \"workbook2.jl\". We check the function as follows."
   ]
  },
  {
   "cell_type": "code",
   "execution_count": 4,
   "metadata": {
    "collapsed": false
   },
   "outputs": [],
   "source": [
    "# construct KVPairs\n",
    "X = convert(Array{Int64}, 1:10); \n",
    "n = length(X);\n",
    "values = Array{KVPair}(n);\n",
    "for i in 1:n\n",
    "    values[i] = KVPair(i,X[i]);\n",
    "end\n",
    "# construct a list\n",
    "L=buildLList(values);"
   ]
  },
  {
   "cell_type": "code",
   "execution_count": 5,
   "metadata": {
    "collapsed": false
   },
   "outputs": [
    {
     "name": "stdout",
     "output_type": "stream",
     "text": [
      "KVPair(1, 1.0)\n",
      "KVPair(2, 2.0)\n",
      "KVPair(3, 3.0)\n",
      "KVPair(4, 4.0)\n",
      "KVPair(5, 5.0)\n",
      "KVPair(6, 6.0)\n",
      "KVPair(7, 7.0)\n",
      "KVPair(8, 8.0)\n",
      "KVPair(9, 9.0)\n",
      "KVPair(10, 10.0)\n"
     ]
    }
   ],
   "source": [
    "# check whether the function works\n",
    "printKVPair(L);"
   ]
  },
  {
   "cell_type": "markdown",
   "metadata": {},
   "source": [
    "** (2) ** Write a function search(list::Nullable{LList}, k::Int64) that searches an LList for the key k and returns the corresponding KVPair if it is present and a Nullable{KVPair} otherwise. Verify that your function works."
   ]
  },
  {
   "cell_type": "markdown",
   "metadata": {},
   "source": [
    "Regarding function, refer to  search function in \"workbook2.jl\". We check the function as follows."
   ]
  },
  {
   "cell_type": "code",
   "execution_count": 6,
   "metadata": {
    "collapsed": false
   },
   "outputs": [
    {
     "name": "stdout",
     "output_type": "stream",
     "text": [
      "KVPair(5, 5.0)\n",
      "Nullable{KVPair}\n"
     ]
    }
   ],
   "source": [
    "# verify the function works\n",
    "println(search(L,5));\n",
    "println(search(L,11));"
   ]
  },
  {
   "cell_type": "markdown",
   "metadata": {},
   "source": [
    "** (3) ** Use Julia's @timed macro to measure how the typical computational cost of your search() function grows with the length of the list. "
   ]
  },
  {
   "cell_type": "markdown",
   "metadata": {},
   "source": [
    "Here is the plot of runtime against the length of a list (1:100) on a lin-lin plot."
   ]
  },
  {
   "cell_type": "code",
   "execution_count": 7,
   "metadata": {
    "collapsed": false
   },
   "outputs": [],
   "source": [
    "# the length of the list\n",
    "N=Int64(100)\n",
    "# store the runtime of search function for arrays with different lengths\n",
    "runtime=zeros(Float64,1,N);\n",
    "\n",
    "for i=1:N\n",
    "    # generate a list of length i\n",
    "    X=rand(rng,1:(N*3),i);\n",
    "    values = Array{KVPair}(length(X));\n",
    "    for j=1:length(X)\n",
    "        values[j] = KVPair(j,X[j]);\n",
    "    end\n",
    "    L=buildLList(values);\n",
    "    # search for a random number among the list\n",
    "    runtime[i]=(@timed search(L,rand(rng,1:(N*3),1)[1]))[2];\n",
    "end"
   ]
  },
  {
   "cell_type": "code",
   "execution_count": 8,
   "metadata": {
    "collapsed": false
   },
   "outputs": [
    {
     "data": {
      "image/png": "[encoded data removed]",
      "text/plain": [
       "PyPlot.Figure(PyObject <matplotlib.figure.Figure object at 0x120fb8b10>)"
      ]
     },
     "metadata": {},
     "output_type": "display_data"
    }
   ],
   "source": [
    "plot(1:N,runtime')\n",
    "xlabel(\"array length, n\",fontsize=13);\n",
    "ylabel(\"runtime (s)\",fontsize=13);\n",
    "title(\"A lin-lin plot showing the runtime for search (one realization)\",fontsize=13)\n",
    "grid()\n",
    "show()"
   ]
  },
  {
   "cell_type": "markdown",
   "metadata": {},
   "source": [
    "For one realization, runtime is influenced by many factors and illustrates randomness; alternatively, we could now plot the average computational time of the function search. Here is the plot of average runtime against the length of a list (1:100) on a lin-lin plot."
   ]
  },
  {
   "cell_type": "code",
   "execution_count": 9,
   "metadata": {
    "collapsed": true
   },
   "outputs": [],
   "source": [
    "# store runtime for arrays of different lengths and different realizations in an array\n",
    "nreal=Int64(1000);\n",
    "runtime=zeros(Float64,nreal,N);\n",
    "for i=1:nreal\n",
    "    for j=1:N\n",
    "        X=rand(rng,1:(N*3),i);\n",
    "        values = Array{KVPair}(length(X));\n",
    "        for k=1:length(X)\n",
    "            values[k] = KVPair(k,X[k]);\n",
    "        end\n",
    "        L=buildLList(values);\n",
    "        runtime[i,j]=(@timed search(L,rand(rng,1:(N*3),1)[1]))[2];\n",
    "    end\n",
    "end\n"
   ]
  },
  {
   "cell_type": "code",
   "execution_count": 10,
   "metadata": {
    "collapsed": false
   },
   "outputs": [
    {
     "data": {
      "image/png": "[encoded data removed]",
      "text/plain": [
       "PyPlot.Figure(PyObject <matplotlib.figure.Figure object at 0x1211d5fd0>)"
      ]
     },
     "metadata": {},
     "output_type": "display_data"
    }
   ],
   "source": [
    "# plot the mean runtime for arrays with different lengths\n",
    "plot(1:N,mean(runtime,1)')\n",
    "xlabel(\"array length, n\",fontsize=13);\n",
    "ylabel(\"runtime (s)\",fontsize=13);\n",
    "title(\"A lin-lin plot showing the average runtime for search\",fontsize=13)\n",
    "grid()\n",
    "show()"
   ]
  },
  {
   "cell_type": "markdown",
   "metadata": {},
   "source": [
    "## Question 2: Interval membership\n",
    "\n",
    "The problem of interval membership is the following: given a set of contiguous intervals, \n",
    "\n",
    "$\\left\\{[x_0, x_1), [x_1, x_2), \\ldots, [x_{n-2}, x_{n-1}), [x_{n-1}, x_n)\\right\\}$\n",
    "\n",
    "spanning the interval $[x_1, x_n)$ and given a random number $x \\in [x_1, x_n)$, determine the interval in which $x$ lies. The standard numerical algorithm for stochastic simulation of continuous-time Markov processes (eg birth-death process, contact process, SIR model etc) requires solving an interval membership problem at each time step. It is therefore important to be able to solve it efficiently. Note, we cannot assume that all intervals are the same length.\n",
    "\n",
    "We can solve the interval membership problem with $n$ interval by a variant of linear search in $O(n)$ time. We will demonstrate below that it can be solved in $O(\\log\\, n)$ time using a variant of a data structure known as a Fenwick tree.\n",
    "\n",
    "**1)** Use Julia's random number generator to generate $n$ random interval lengths, $y_1, y_2, \\ldots, y_n$ between 0 and 1 as shown: "
   ]
  },
  {
   "cell_type": "code",
   "execution_count": 31,
   "metadata": {
    "collapsed": true
   },
   "outputs": [],
   "source": [
    "# Generate a sample of n uniform random numbers in the interval [0,1]\n",
    "n=Int64(5);\n",
    "Y = rand(rng, n);"
   ]
  },
  {
   "cell_type": "markdown",
   "metadata": {},
   "source": [
    "The corresponding interval membership problem is constructed from the partial sums:\n",
    "$$x_i = \\sum_{j=1}^i y_j, \\ \\ \\ \\ \\ i=1,2,\\ldots n.$$ \n",
    "Using the objects defined in KVPair.jl and LList.jl, create an array of key-value pairs, $(i, x_i)$, associating each interval with the corresponding partial sum and store this array in a linked list. Print the list for a small value of $n$to verify that it works."
   ]
  },
  {
   "cell_type": "code",
   "execution_count": 32,
   "metadata": {
    "collapsed": false
   },
   "outputs": [
    {
     "name": "stdout",
     "output_type": "stream",
     "text": [
      "KVPair(1, 0.006277012758273415)\n",
      "KVPair(2, 0.5453626667043194)\n",
      "KVPair(3, 1.2515102563720308)\n",
      "KVPair(4, 2.0474952949552394)\n",
      "KVPair(5, 2.4105525244802553)\n"
     ]
    }
   ],
   "source": [
    "X=cumsum(Y);\n",
    "values = Array{KVPair}(length(X));\n",
    "for i in 1:length(X)\n",
    "    values[i] = KVPair(i,X[i]);\n",
    "end\n",
    "L=buildLList(values);\n",
    "printKVPair(L);"
   ]
  },
  {
   "cell_type": "markdown",
   "metadata": {},
   "source": [
    "**2)** Modify the search function you wrote above to write a recursive function\n",
    "\n",
    "$$\\text{intervalmembership(list::Nullable{LList}, x::Float64)}$$\n",
    "\n",
    "that takes the LList containing the list of partial sums and a random Float64 in the range $[0, x_n]$ as inputs and returns the KVPair corresponding to the interval in which $x$ lies. Verify that it works for small values of $n$ and use Julia's @timed macro to measure how the typical computational cost grows with $n$. "
   ]
  },
  {
   "cell_type": "code",
   "execution_count": 33,
   "metadata": {
    "collapsed": false
   },
   "outputs": [
    {
     "data": {
      "text/plain": [
       "ftintervalmembership (generic function with 1 method)"
      ]
     },
     "execution_count": 33,
     "metadata": {},
     "output_type": "execute_result"
    }
   ],
   "source": [
    "include(\"workbook2_intervalmembership.jl\")"
   ]
  },
  {
   "cell_type": "markdown",
   "metadata": {},
   "source": [
    "The above file contains **two** functions: \n",
    "1. intervalmembership(list,x) takes the LList containing the list of partial sums and a random Float64 in the range $[0, x_n]$ as inputs and returns the KVPair corresponding to the interval in which $x$ lies.\n",
    "\n",
    "2. ftintervalmembership(ftree,x) takes the FTree containing the list of partial sums and a random Float64 in the range $[0, x_n]$ as inputs and returns the KVPair corresponding to the interval in which $x$ lies."
   ]
  },
  {
   "cell_type": "code",
   "execution_count": 34,
   "metadata": {
    "collapsed": false
   },
   "outputs": [
    {
     "data": {
      "text/plain": [
       "KVPair(4, 2.0474952949552394)"
      ]
     },
     "execution_count": 34,
     "metadata": {},
     "output_type": "execute_result"
    }
   ],
   "source": [
    "# verify that it works for small values of n (use the list built in (1)) \n",
    "intervalmembership(L,1.5)"
   ]
  },
  {
   "cell_type": "markdown",
   "metadata": {},
   "source": [
    "Verify that it works for small values of $n$ and use Julia's @timed macro to measure how the typical computational cost grows with $n$. "
   ]
  },
  {
   "cell_type": "code",
   "execution_count": 45,
   "metadata": {
    "collapsed": false
   },
   "outputs": [
    {
     "ename": "LoadError",
     "evalue": "\u001b[91mMethodError: Cannot `convert` an object of type Tuple{KVPair,Float64,Int64,Float64,Base.GC_Diff} to an object of type Float64\nThis may have arisen from a call to the constructor Float64(...),\nsince type constructors fall back to convert methods.\u001b[39m",
     "output_type": "error",
     "traceback": [
      "\u001b[91mMethodError: Cannot `convert` an object of type Tuple{KVPair,Float64,Int64,Float64,Base.GC_Diff} to an object of type Float64\nThis may have arisen from a call to the constructor Float64(...),\nsince type constructors fall back to convert methods.\u001b[39m",
      "",
      "Stacktrace:",
      " [1] \u001b[1msetindex!\u001b[22m\u001b[22m\u001b[1m(\u001b[22m\u001b[22m::Array{Float64,2}, ::Tuple{KVPair,Float64,Int64,Float64,Base.GC_Diff}, ::Int64\u001b[1m)\u001b[22m\u001b[22m at \u001b[1m./array.jl:549\u001b[22m\u001b[22m",
      " [2] \u001b[1mmacro expansion\u001b[22m\u001b[22m at \u001b[1m./In[45]:10\u001b[22m\u001b[22m [inlined]",
      " [3] \u001b[1manonymous\u001b[22m\u001b[22m at \u001b[1m./<missing>:?\u001b[22m\u001b[22m",
      " [4] \u001b[1minclude_string\u001b[22m\u001b[22m\u001b[1m(\u001b[22m\u001b[22m::String, ::String\u001b[1m)\u001b[22m\u001b[22m at \u001b[1m./loading.jl:515\u001b[22m\u001b[22m"
     ]
    }
   ],
   "source": [
    "runtime=zeros(Float64,1,N)\n",
    "for i = 1:N\n",
    "    Y=rand(rng,i)\n",
    "    X=cumsum(Y)\n",
    "    values = Array{KVPair}(length(X))\n",
    "    for j=1:length(X)\n",
    "        values[j] = KVPair(j,X[j])\n",
    "    end\n",
    "    L=buildLList(values)\n",
    "    runtime[i]=(@timed intervalmembership(L,(rand(rng,1)*X[end])[1]))\n",
    "end\n",
    "#####????????"
   ]
  },
  {
   "cell_type": "code",
   "execution_count": 36,
   "metadata": {
    "collapsed": false
   },
   "outputs": [
    {
     "data": {
      "image/png": "[encoded data removed]",
      "text/plain": [
       "PyPlot.Figure(PyObject <matplotlib.figure.Figure object at 0x133b00f90>)"
      ]
     },
     "metadata": {},
     "output_type": "display_data"
    }
   ],
   "source": [
    "plot(1:N,runtime')\n",
    "xlabel(\"array length, n\",fontsize=13);\n",
    "ylabel(\"runtime (s)\",fontsize=13);\n",
    "title(\"A lin-lin plot showing the runtime for intervalmembership (one realization)\",fontsize=13)\n",
    "grid()\n",
    "show()"
   ]
  },
  {
   "cell_type": "code",
   "execution_count": 17,
   "metadata": {
    "collapsed": false
   },
   "outputs": [
    {
     "ename": "LoadError",
     "evalue": "\u001b[91mUndefVarError: length_list not defined\u001b[39m",
     "output_type": "error",
     "traceback": [
      "\u001b[91mUndefVarError: length_list not defined\u001b[39m",
      "",
      "Stacktrace:",
      " [1] \u001b[1mmacro expansion\u001b[22m\u001b[22m at \u001b[1m./In[17]:4\u001b[22m\u001b[22m [inlined]",
      " [2] \u001b[1manonymous\u001b[22m\u001b[22m at \u001b[1m./<missing>:?\u001b[22m\u001b[22m",
      " [3] \u001b[1minclude_string\u001b[22m\u001b[22m\u001b[1m(\u001b[22m\u001b[22m::String, ::String\u001b[1m)\u001b[22m\u001b[22m at \u001b[1m./loading.jl:515\u001b[22m\u001b[22m"
     ]
    }
   ],
   "source": [
    "runtime=zeros(Float64,nreal,N)\n",
    "for i=1:nreal\n",
    "    for j=1:N\n",
    "        Y=rand(rng, j)\n",
    "        X=cumsum(Y)\n",
    "        values = Array{KVPair}(length(X))\n",
    "        for k=1:length(X)\n",
    "            values[k] = KVPair(k,X[k])\n",
    "        end\n",
    "        L=buildLList(values)\n",
    "        runtime[i,j]=(@timed intervalmembership(L,rand*X[end]))[2]\n",
    "    end\n",
    "end"
   ]
  },
  {
   "cell_type": "code",
   "execution_count": 18,
   "metadata": {
    "collapsed": false
   },
   "outputs": [
    {
     "data": {
      "image/png": "[encoded data removed]",
      "text/plain": [
       "PyPlot.Figure(PyObject <matplotlib.figure.Figure object at 0x13547b650>)"
      ]
     },
     "metadata": {},
     "output_type": "display_data"
    }
   ],
   "source": [
    "plot(1:N,mean(runtime,1)')\n",
    "xlabel(\"array length, n\",fontsize=13);\n",
    "ylabel(\"runtime (s)\",fontsize=13);\n",
    "title(\"A lin-lin plot showing average runtime for intervalmembership\",fontsize=13)\n",
    "grid()\n",
    "show()"
   ]
  },
  {
   "cell_type": "markdown",
   "metadata": {},
   "source": [
    "**3)** The file FTree.jl defines a data structure implementing a variant of a Fenwick tree that can solve the interval membership problem as described in the lectures/notes. The function \n",
    "\n",
    "$$\\text{buildFTree(T::Nullable{FTree}, dataArray::Array{KVPair, 1})}$$\n",
    "\n",
    "takes the array of KVPairs containing the interval lengths as input, recursively constructs the tree and returns the FTree containing the correct key-value pairs (note a key of -1 is assigned to all non-leaf nodes)."
   ]
  },
  {
   "cell_type": "markdown",
   "metadata": {},
   "source": [
    "Write a recursive function\n",
    "\n",
    "$$\\text{ftintervalmembership(FT::Nullable{FTree}, x::Float64)}$$\n",
    "\n",
    "that takes the FTree containing the list of partial sums and a random Float64 in the range $[0, x_n]$ as \n",
    "inputs and returns the KVPair corresponding to the interval in which $x$ lies. Verify that it works for small values of $n$ and use Julia's @timed macro to compare how the typical computational compares to the above linear search version. Note it can sometimes be difficult to directly measure $O(\\log\\, n)$ growth in computation time since the problem size needs to become very large to register appreciable run times."
   ]
  },
  {
   "cell_type": "markdown",
   "metadata": {},
   "source": [
    "Verify that it works for small values of $n$:"
   ]
  },
  {
   "cell_type": "code",
   "execution_count": 19,
   "metadata": {
    "collapsed": false
   },
   "outputs": [
    {
     "ename": "LoadError",
     "evalue": "\u001b[91mUndefVarError: ftintervalmembership not defined\u001b[39m",
     "output_type": "error",
     "traceback": [
      "\u001b[91mUndefVarError: ftintervalmembership not defined\u001b[39m",
      "",
      "Stacktrace:",
      " [1] \u001b[1minclude_string\u001b[22m\u001b[22m\u001b[1m(\u001b[22m\u001b[22m::String, ::String\u001b[1m)\u001b[22m\u001b[22m at \u001b[1m./loading.jl:515\u001b[22m\u001b[22m"
     ]
    }
   ],
   "source": [
    "# verify that it works for small values of n=5.\n",
    "values = Array{KVPair}(5)\n",
    "for i in 1:n\n",
    "    values[i] = KVPair(i,Y[i])\n",
    "end\n",
    "T = Nullable{FTree}(FTree(KVPair(0,0.0)))\n",
    "T=buildFTree(T, values);\n",
    "ftintervalmembership(T, 1.5)"
   ]
  },
  {
   "cell_type": "markdown",
   "metadata": {},
   "source": [
    "Use Julia's @timed macro to compare how the typical computational compares to the above linear search version:"
   ]
  },
  {
   "cell_type": "code",
   "execution_count": 20,
   "metadata": {
    "collapsed": false
   },
   "outputs": [
    {
     "ename": "LoadError",
     "evalue": "\u001b[91mMethodError: no method matching rand(::Type{Float64}, ::MersenneTwister, ::Int64)\u001b[0m\nClosest candidates are:\n  rand(::Type, \u001b[91m::Integer\u001b[39m, ::Integer...) at random.jl:282\n  rand(::Type) at random.jl:278\n  rand(\u001b[91m::Integer...\u001b[39m) at random.jl:280\n  ...\u001b[39m",
     "output_type": "error",
     "traceback": [
      "\u001b[91mMethodError: no method matching rand(::Type{Float64}, ::MersenneTwister, ::Int64)\u001b[0m\nClosest candidates are:\n  rand(::Type, \u001b[91m::Integer\u001b[39m, ::Integer...) at random.jl:282\n  rand(::Type) at random.jl:278\n  rand(\u001b[91m::Integer...\u001b[39m) at random.jl:280\n  ...\u001b[39m",
      "",
      "Stacktrace:",
      " [1] \u001b[1mmacro expansion\u001b[22m\u001b[22m at \u001b[1m./In[20]:6\u001b[22m\u001b[22m [inlined]",
      " [2] \u001b[1manonymous\u001b[22m\u001b[22m at \u001b[1m./<missing>:?\u001b[22m\u001b[22m",
      " [3] \u001b[1minclude_string\u001b[22m\u001b[22m\u001b[1m(\u001b[22m\u001b[22m::String, ::String\u001b[1m)\u001b[22m\u001b[22m at \u001b[1m./loading.jl:515\u001b[22m\u001b[22m"
     ]
    }
   ],
   "source": [
    "# compare how the typical computational compares to the above linear search version.\n",
    "runtime1=zeros(nreal,N)\n",
    "runtime2=zeros(nreal,N)\n",
    "for i=1:nreal\n",
    "    for j=1:N\n",
    "        Y=rand(Float64,rng,j);\n",
    "        X=cumsum(Y)\n",
    "        \n",
    "        values1 = Array{KVPair}(length(X))\n",
    "        for k in 1:length(X)\n",
    "            values1[k] = KVPair(k,X[k])\n",
    "        end\n",
    "        \n",
    "        L=buildLList(values1)\n",
    "        runtime1[i,j]=(@timed intervalmembership(L,Float64(length(X))))[2]\n",
    "        \n",
    "        \n",
    "        values2 = Array{KVPair}(length(Y))\n",
    "        for l=1:length(Y)\n",
    "            values2[l] = KVPair(l,Y[l])\n",
    "        end\n",
    "        T=Nullable{FTree}(FTree(KVPair(0,0.0)))\n",
    "        T=buildFTree(T, values2);\n",
    "        runtime2[i,j]=(@timed ftintervalmembership(T,Float64(length(X))))[2];\n",
    "    end\n",
    "end\n"
   ]
  },
  {
   "cell_type": "code",
   "execution_count": 21,
   "metadata": {
    "collapsed": false
   },
   "outputs": [
    {
     "ename": "LoadError",
     "evalue": "\u001b[91mUndefVarError: length_list not defined\u001b[39m",
     "output_type": "error",
     "traceback": [
      "\u001b[91mUndefVarError: length_list not defined\u001b[39m",
      "",
      "Stacktrace:",
      " [1] \u001b[1minclude_string\u001b[22m\u001b[22m\u001b[1m(\u001b[22m\u001b[22m::String, ::String\u001b[1m)\u001b[22m\u001b[22m at \u001b[1m./loading.jl:515\u001b[22m\u001b[22m"
     ]
    }
   ],
   "source": [
    "plot(length_list,mean(runtime1,1)',marker=\"o\",markersize=6,label=\"intervalmembership\")\n",
    "plot(length_list,mean(runtime2,1)',marker=\"*\",markersize=6,label=\"ftintervalmembership\")\n",
    "xlabel(\"array length, n\",fontsize=13);\n",
    "ylabel(\"runtime (s)\",fontsize=13);\n",
    "title(\"A lin-lin plot showing average runtime for intervalmemberships\",fontsize=13)\n",
    "legend()\n",
    "grid()\n",
    "show()"
   ]
  },
  {
   "cell_type": "markdown",
   "metadata": {},
   "source": [
    "## Question 3: Gillespie algorithm for heterogeneous diffusion\n",
    "\n",
    "The Gillespie algorithm is a dynamic Monte Carlo algorithm that generates statistically correct realisations of a continous time Markov process. See https://en.wikipedia.org/wiki/Gillespie_algorithm It is used heavily in stochastic simulation of chemical and biological reaction networks and population dynamics. In this question we use it to simulate one-dimensional diffusion of heterogeneous particles whose diffusion constants are independently drawn from an exponential distribution.\n",
    "\n",
    "The basic idea of the algorithm is as follows\n",
    "1. Create a list $\\left\\{(i, r_i), i=1,\\ldots M\\right\\}$,  of all possible transitions (events), $i$, that can occur in the system and the corresponding transition rates, $r_i$.\n",
    "2. Calculate the total rate\n",
    "$$R = \\sum_{i=1}^M r_i$$\n",
    "and divide the interval $[0, R]$ into $M$ intervals whose lengths are given by the $r_i$.\n",
    "3. Generate a uniform random number in the range $[0,R]$ and determine which interval it falls in. \n",
    "4. Perform the corresponding transition and update the time variable by an amount $\\Delta t = 1/R$.\n",
    "5. Repeat until the desired simulation time is reached.\n",
    "\n",
    "To be concrete, suppose with have $N$ particles on the interval $[-L, L]$ initially located at $x=0$. Each particle can hop a distance $\\Delta x$ to the left or to the right with equal probability. The rate of hopping is initially considered to be the same for all particles:\n",
    "\n",
    "$$ r_i = \\frac{D}{2}\\,\\frac{1}{(\\Delta x)^2} $$\n",
    "\n",
    "This choice ensures that in the continous limit ($\\Delta x \\to 0$, $N\\to \\infty$), the density of particles $c(x,t)$ on the line will satisfy the usual diffusion equation with diffusion coefficient $D$ (recall MA933):\n",
    "\n",
    "$$ \\frac{\\partial c}{\\partial t} = D \\frac{\\partial^2 c}{\\partial x^2}$$\n",
    "\n",
    "with initial condition $c(x,0) = \\delta(x)$.\n",
    "\n",
    "The steps of the algorithm then correspond to the following:\n",
    "1. There are $M= 2 N$ possible transitions at each step: each of $N$ particles can hop a distance $\\Delta x$ either left or right with the above rates. We index them as follows: events k=1:N correspond to particle k hopping to the right, events k=N+1:2N correspond to particle k-N hopping to the left.\n",
    "2. The total rate is \n",
    "$$ R = \\frac{D N}{(\\Delta x)^2}.$$\n",
    "3. Generate a uniform random number in the range $[0,R]$ and determine the index $k$ of particle to move and the direction.\n",
    "4. Update the position of particle $k$ accordingly.\n",
    "5. Repeat.\n",
    "\n",
    "The following piece of code implements the Gillespie algorithm for N=100, L=10, $\\Delta x = 0.1$ and $D=1$, converts the particle positions to particle density and compares to the solution of the diffusion equation on an unbounded domain at t=1 (we assume that L=10 is far enough from zero to be considered unbounded):\n",
    "\n",
    "$$c(x, t) = \\frac{1}{\\sqrt{2 \\pi D t}}\\, \\exp [-\\frac{1}{2}\\frac{x^2}{D t} ]$$"
   ]
  },
  {
   "cell_type": "code",
   "execution_count": 22,
   "metadata": {
    "collapsed": false
   },
   "outputs": [
    {
     "ename": "LoadError",
     "evalue": "\u001b[91mUndefVarError: Float not defined\u001b[39m",
     "output_type": "error",
     "traceback": [
      "\u001b[91mUndefVarError: Float not defined\u001b[39m",
      "",
      "Stacktrace:",
      " [1] \u001b[1minclude_string\u001b[22m\u001b[22m\u001b[1m(\u001b[22m\u001b[22m::String, ::String\u001b[1m)\u001b[22m\u001b[22m at \u001b[1m./loading.jl:515\u001b[22m\u001b[22m"
     ]
    }
   ],
   "source": [
    "L=Float64(10.0)\n",
    "N=Int64(100)\n",
    "Nx = Int64(201)\n",
    "dx = 2.0*L/(Nx-1)\n",
    "X = dx.*(-(Nx-1)/2:(Nx-1)/2)\n",
    "Y =zeros(Int64,N)\n",
    "D = Float64(1.0)\n",
    "t= Float64(0.0)\n",
    "\n",
    "r = (D/2.0)/(dx*dx)\n",
    "totalRate = 2.0*N*r\n",
    "dt = 1.0/totalRate\n",
    "T=Float(1.0)\n",
    "\n",
    "# This is the main loop\n",
    "while t < T\n",
    "    # Pick an event\n",
    "    k = rand(1:2*N)\n",
    "    if k<=N\n",
    "        hop = 1\n",
    "        particleId = k\n",
    "    else\n",
    "        hop = -1\n",
    "        particleId=k-N\n",
    "    end\n",
    "    Y[particleId]+=hop\n",
    "    t+=dt\n",
    "end\n",
    "\n",
    "# Calculate the estimated density of particles\n",
    "P =zeros(Float64,length(X))\n",
    "for i in 1:length(Y)\n",
    "    P[Y[i]+Int64((Nx-1)/2)+1]+=1/(N * dx)\n",
    "end\n",
    "\n",
    "# Calculate the theoretical density and compare\n",
    "function normal(x, D, t)\n",
    "    return (1.0/sqrt(2.0*pi*D*t))*exp(-x*x/(2*D*t))\n",
    "end\n",
    "P1 = normal.(X, D, T)\n",
    "plot(X, P1, label=\"Analytic solution of diffusion equation\")\n",
    "plot(X, P, label=\"Numerical estimate of particle density\")\n",
    "xlabel(\"x\")\n",
    "ylabel(\"Particle density, c(x,t)\")\n",
    "title(\"Stochastic simulation of simple diffusion in 1-D\")\n",
    "legend()\n",
    "grid(\"on\")"
   ]
  },
  {
   "cell_type": "markdown",
   "metadata": {},
   "source": [
    "**1)** The code above makes critical use of the fact that all intervals have the same width in order to decide which particle to move at each step. Suppose now that instead of being equal to $D$ for each particle, the diffusion coefficients are drawn from an exponential distribution with mean $D$:\n",
    "\n",
    "$$ P(x) = \\frac{1}{D} \\exp\\left(-\\frac{x}{D}\\right). $$\n",
    "\n",
    "Modify the code to account for this, using your code from Q2 above to solve the interval membership problem using linear search. You will need to use Julia's randexp() function to generate values for the diffusion coefficients. What is the largest value of $N$ you can simulate in a \"reasonable\" time?\n"
   ]
  },
  {
   "cell_type": "code",
   "execution_count": 23,
   "metadata": {
    "collapsed": false
   },
   "outputs": [
    {
     "ename": "LoadError",
     "evalue": "\u001b[91mUndefVarError: Float not defined\u001b[39m",
     "output_type": "error",
     "traceback": [
      "\u001b[91mUndefVarError: Float not defined\u001b[39m",
      "",
      "Stacktrace:",
      " [1] \u001b[1minclude_string\u001b[22m\u001b[22m\u001b[1m(\u001b[22m\u001b[22m::String, ::String\u001b[1m)\u001b[22m\u001b[22m at \u001b[1m./loading.jl:515\u001b[22m\u001b[22m"
     ]
    }
   ],
   "source": [
    "N=Int64(1000)\n",
    "Y =zeros(Int64,N) \n",
    "D = randexp(Float64,N)\n",
    "t=Float64(0.0)\n",
    "b = (D/2.0)/(dx*dx)\n",
    "r = [b;b] # rate\n",
    "totalRate = sum(r)\n",
    "dt = 1.0/totalRate\n",
    "\n",
    "# List for linear search\n",
    "rcumsum=cumsum(r)\n",
    "values = Array{KVPair}(length(rcumsum))\n",
    "for i in 1:length(rcumsum)\n",
    "        values[i] = KVPair(i,rcumsum[i])\n",
    "end\n",
    "L=buildLList(values)\n",
    "\n",
    "# This is the main loop\n",
    "while t < T\n",
    "    # Pick an event\n",
    "    urand=rand(1)*totalRate\n",
    "    k= intervalmembership(L,urand[1])\n",
    "    if k.key<=N\n",
    "        hop = 1\n",
    "        particleId=k.key\n",
    "    else\n",
    "        hop = -1\n",
    "        particleId=k.key-N\n",
    "    end\n",
    "    Y[particleId]+=hop\n",
    "    t+=dt\n",
    "end\n",
    "\n",
    "\n",
    "# Calculate the estimated density of particles\n",
    "P =zeros(Float64,length(X))\n",
    "for i in 1:length(Y)\n",
    "    P[Y[i]+Int64((Nx-1)/2)+1]+=1/(N * dx);\n",
    "end\n",
    "\n",
    "plot(X,P)\n",
    "xlabel(\"x\")\n",
    "ylabel(\"Particle density, c(x,t)\")\n",
    "title(\"Stochastic simulation of simple diffusion in 1-D\")\n",
    "legend()\n",
    "grid(\"on\")\n",
    "show()"
   ]
  },
  {
   "cell_type": "markdown",
   "metadata": {},
   "source": [
    "When I try N=100 and N=1000, the results are generated in a quick time; however, when I try N=10000, the results cannot be reached in a short time."
   ]
  },
  {
   "cell_type": "markdown",
   "metadata": {},
   "source": [
    "**2)** Try again using your Fenwick tree from Q2 to solve the interval membership problem and compare. What is the largest value of $N$ you can simulate now?"
   ]
  },
  {
   "cell_type": "code",
   "execution_count": 24,
   "metadata": {
    "collapsed": false
   },
   "outputs": [
    {
     "ename": "LoadError",
     "evalue": "\u001b[91mUndefVarError: Float not defined\u001b[39m",
     "output_type": "error",
     "traceback": [
      "\u001b[91mUndefVarError: Float not defined\u001b[39m",
      "",
      "Stacktrace:",
      " [1] \u001b[1minclude_string\u001b[22m\u001b[22m\u001b[1m(\u001b[22m\u001b[22m::String, ::String\u001b[1m)\u001b[22m\u001b[22m at \u001b[1m./loading.jl:515\u001b[22m\u001b[22m"
     ]
    }
   ],
   "source": [
    "N=Int64(10000)\n",
    "Y =zeros(Int64,N)\n",
    "D = randexp(Float64,N)\n",
    "t=Float(0.0)\n",
    "b = (D/2.0)/(dx*dx)\n",
    "r = [b;b]\n",
    "totalRate = sum(r)\n",
    "dt = 1.0/totalRate\n",
    "\n",
    "\n",
    "# Now calculate the array of partial sums\n",
    "values = Array{KVPair}(length(r))\n",
    "for i in 1:length(r)\n",
    "    values[i] = KVPair(i,r[i])\n",
    "end\n",
    "FT = Nullable{FTree}(FTree(KVPair(0,0.0)))\n",
    "FT = buildFTree(FT, values);\n",
    "\n",
    "\n",
    "# This is the main loop\n",
    "while t < T\n",
    "    # Pick an event\n",
    "    urand=rand(1)*totalRate\n",
    "    k=ftintervalmembership(FT, urand[1])\n",
    "    if k.key<=N\n",
    "        hop = 1\n",
    "        particleId=k.key\n",
    "    else\n",
    "        hop = -1\n",
    "        particleId=k.key-N\n",
    "    end\n",
    "    Y[particleId]+=hop\n",
    "    t+=dt\n",
    "end\n",
    "\n",
    "\n",
    "# Calculate the estimated density of particles\n",
    "P1 =zeros(Float64,length(X))\n",
    "for i in 1:length(Y)\n",
    "    P1[Y[i]+Int64((Nx-1)/2)+1]+=1/(N * dx)\n",
    "end\n",
    "\n",
    "plot(X,P1)\n",
    "xlabel(\"x\")\n",
    "ylabel(\"Particle density, c(x,t)\")\n",
    "title(\"Stochastic simulation of simple diffusion in 1-D\")\n",
    "legend()\n",
    "grid(\"on\")\n",
    "show()"
   ]
  },
  {
   "cell_type": "markdown",
   "metadata": {},
   "source": [
    "When I try N=10000, the results are generated in a quick time; however, when I try N=100000, the results cannot be reached in a short time."
   ]
  },
  {
   "cell_type": "markdown",
   "metadata": {},
   "source": [
    "**3)** Show analytically that the solution of the heterogenous diffusion problem is\n",
    "\n",
    "$$ c(x,t) = \\frac{\\exp \\left(-\\sqrt{\\frac{2}{D\\,t}}\\, |x| \\right)}{\\sqrt{2\\, D\\, t}}$$\n",
    "\n",
    "You will probably need the integral formula (Formula 3.325 of Gradshteyn and Rizhik, 7th Ed.)\n",
    "\n",
    "$$ \\int_0^\\infty \\exp\\left(-a\\,x^2 - \\frac{b}{x^2} \\right)\\, dx =  \\frac{1}{2}\\,\\sqrt{\\frac{\\pi}{a}}\\,\\exp\\left(-2 \\sqrt{a\\,b} \\right).$$\n",
    "Use this formula to validate your numerical results.\n",
    "\n"
   ]
  },
  {
   "cell_type": "markdown",
   "metadata": {},
   "source": [
    "$\\frac{\\partial c}{\\partial t}=D \\frac{\\partial^2 c}{\\partial x^2}$ on $x\\in [-L,L]$ as $L\\rightarrow \\infty$ where $c(x,t)=$density of particles at x and time t.\n",
    "\n",
    "Now $D \\sim exp(D)$.\n",
    "\n",
    "$c(x,t) = \\frac{1}{\\sqrt{2\\pi Dt}} \\exp(-\\frac{1}{2}\\frac{x^2}{Dt})$"
   ]
  },
  {
   "cell_type": "markdown",
   "metadata": {},
   "source": [
    "$\\frac{\\partial c}{\\partial t}=D \\frac{\\partial^2 c}{\\partial x^2}$ on $x\\in [-L,L]$ as $L\\rightarrow \\infty$ where $c(x,t)=$density of particles at x and time t.\n",
    "\n",
    "Now $D \\sim exp(D)$.\n",
    "\n",
    "$<c(x,t)> = <\\frac{1}{\\sqrt{2\\pi Dt}} \\exp(-\\frac{1}{2}\\frac{x^2}{Dt})> = \\int_{0}^{\\infty} \\frac{\\exp(-\\frac{y}{D})}{D} \\frac{1}{\\sqrt{2\\pi yt}} \\exp(-\\frac{1}{2}\\frac{x^2}{yt}) dy$. Now introducing a new variable $z=\\sqrt(y)$, and substituting back into the integral yields\n",
    "\\begin{align*}\n",
    "&\\int_{0}^{\\infty} \\frac{\\exp(-\\frac{y}{D})}{D} \\frac{1}{\\sqrt{2\\pi yt}} \\exp(-\\frac{1}{2}\\frac{x^2}{yt}) dy=\\int_{0}^{\\infty} \\frac{\\exp(-\\frac{z^2}{D})}{D} \\frac{1}{z\\sqrt{2\\pi t}} \\exp(-\\frac{1}{2}\\frac{x^2}{z^2t}) 2zdz\\\\\n",
    "&=\\frac{\\sqrt(2)}{D\\sqrt{\\pi t}}\\int_{0}^{\\infty}\\exp\\big(-\\frac{z^2}{D}-\\frac{1}{2}\\frac{x^2}{z^2t}\\big) dz=\\frac{\\exp \\left(-\\sqrt{\\frac{2}{D\\,t}}\\, |x| \\right)}{\\sqrt{2\\, D\\, t}},\n",
    "\\end{align*}\n",
    "where the last equality follows from the integral formula provided above.\n",
    "\n"
   ]
  },
  {
   "cell_type": "code",
   "execution_count": 25,
   "metadata": {
    "collapsed": false
   },
   "outputs": [
    {
     "ename": "LoadError",
     "evalue": "\u001b[91mMethodError: no method matching *(::Float64, ::Nullable{FTree})\u001b[0m\nClosest candidates are:\n  *(::Any, ::Any, \u001b[91m::Any\u001b[39m, \u001b[91m::Any...\u001b[39m) at operators.jl:424\n  *(::Float64, \u001b[91m::Float64\u001b[39m) at float.jl:379\n  *(\u001b[91m::PyCall.PyObject\u001b[39m, ::Any) at /Users/apple/.julia/v0.6/PyCall/src/pyoperators.jl:11\n  ...\u001b[39m",
     "output_type": "error",
     "traceback": [
      "\u001b[91mMethodError: no method matching *(::Float64, ::Nullable{FTree})\u001b[0m\nClosest candidates are:\n  *(::Any, ::Any, \u001b[91m::Any\u001b[39m, \u001b[91m::Any...\u001b[39m) at operators.jl:424\n  *(::Float64, \u001b[91m::Float64\u001b[39m) at float.jl:379\n  *(\u001b[91m::PyCall.PyObject\u001b[39m, ::Any) at /Users/apple/.julia/v0.6/PyCall/src/pyoperators.jl:11\n  ...\u001b[39m",
      "",
      "Stacktrace:",
      " [1] \u001b[1mdiffusion\u001b[22m\u001b[22m at \u001b[1m./In[25]:3\u001b[22m\u001b[22m [inlined]",
      " [2] \u001b[1m(::##1#2)\u001b[22m\u001b[22m\u001b[1m(\u001b[22m\u001b[22m::Float64, ::Nullable{FTree}\u001b[1m)\u001b[22m\u001b[22m at \u001b[1m./<missing>:0\u001b[22m\u001b[22m",
      " [3] \u001b[1mbroadcast_t\u001b[22m\u001b[22m\u001b[1m(\u001b[22m\u001b[22m::Function, ::Type{Any}, ::Tuple{Base.OneTo{Int64}}, ::CartesianRange{CartesianIndex{1}}, ::Array{Float64,1}, ::Nullable{FTree}\u001b[1m)\u001b[22m\u001b[22m at \u001b[1m./broadcast.jl:256\u001b[22m\u001b[22m",
      " [4] \u001b[1mbroadcast_c\u001b[22m\u001b[22m at \u001b[1m./broadcast.jl:319\u001b[22m\u001b[22m [inlined]",
      " [5] \u001b[1mbroadcast\u001b[22m\u001b[22m\u001b[1m(\u001b[22m\u001b[22m::Function, ::Array{Float64,1}, ::Nullable{FTree}\u001b[1m)\u001b[22m\u001b[22m at \u001b[1m./broadcast.jl:434\u001b[22m\u001b[22m",
      " [6] \u001b[1minclude_string\u001b[22m\u001b[22m\u001b[1m(\u001b[22m\u001b[22m::String, ::String\u001b[1m)\u001b[22m\u001b[22m at \u001b[1m./loading.jl:515\u001b[22m\u001b[22m"
     ]
    }
   ],
   "source": [
    "# Calculate the theoretical density and compare\n",
    "function diffusion(x, D, t)\n",
    "    return exp(-sqrt(2.0/(D*t))*abs(x))/sqrt(2.0*D*t)\n",
    "end\n",
    "P2 = diffusion.(X, 1.0, T);"
   ]
  },
  {
   "cell_type": "code",
   "execution_count": 26,
   "metadata": {
    "collapsed": false
   },
   "outputs": [
    {
     "ename": "LoadError",
     "evalue": "\u001b[91mUndefVarError: P2 not defined\u001b[39m",
     "output_type": "error",
     "traceback": [
      "\u001b[91mUndefVarError: P2 not defined\u001b[39m",
      "",
      "Stacktrace:",
      " [1] \u001b[1minclude_string\u001b[22m\u001b[22m\u001b[1m(\u001b[22m\u001b[22m::String, ::String\u001b[1m)\u001b[22m\u001b[22m at \u001b[1m./loading.jl:515\u001b[22m\u001b[22m"
     ]
    }
   ],
   "source": [
    "plot(X, P2, label=\"Analytic solution of diffusion equation\")\n",
    "plot(X, P, label=\"Numerical estimate of particle density\")\n",
    "xlabel(\"x\")\n",
    "ylabel(\"Particle density, c(x,t)\")\n",
    "title(\"Stochastic simulation of simple diffusion in 1-D via linked list as n=1000\")"
   ]
  },
  {
   "cell_type": "code",
   "execution_count": 27,
   "metadata": {
    "collapsed": false
   },
   "outputs": [
    {
     "ename": "LoadError",
     "evalue": "\u001b[91mUndefVarError: P2 not defined\u001b[39m",
     "output_type": "error",
     "traceback": [
      "\u001b[91mUndefVarError: P2 not defined\u001b[39m",
      "",
      "Stacktrace:",
      " [1] \u001b[1minclude_string\u001b[22m\u001b[22m\u001b[1m(\u001b[22m\u001b[22m::String, ::String\u001b[1m)\u001b[22m\u001b[22m at \u001b[1m./loading.jl:515\u001b[22m\u001b[22m"
     ]
    }
   ],
   "source": [
    "plot(X, P2, label=\"Analytic solution of diffusion equation\")\n",
    "plot(X, P1, label=\"Numerical estimate of particle density\")\n",
    "xlabel(\"x\")\n",
    "ylabel(\"Particle density, c(x,t)\")\n",
    "title(\"Stochastic simulation of simple diffusion in 1-D via Fenwick tree as n=10000\")"
   ]
  },
  {
   "cell_type": "code",
   "execution_count": null,
   "metadata": {
    "collapsed": true
   },
   "outputs": [],
   "source": []
  }
 ],
 "metadata": {
  "kernelspec": {
   "display_name": "Julia 0.6.0",
   "language": "julia",
   "name": "julia-0.6"
  },
  "language_info": {
   "file_extension": ".jl",
   "mimetype": "application/julia",
   "name": "julia",
   "version": "0.6.0"
  }
 },
 "nbformat": 4,
 "nbformat_minor": 1
}
